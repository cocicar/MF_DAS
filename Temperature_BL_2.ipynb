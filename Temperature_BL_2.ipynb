{
 "cells": [
  {
   "cell_type": "markdown",
   "id": "c8cbe427-7f6b-4d5c-ba02-b4ce922c3598",
   "metadata": {},
   "source": [
    "# **Teмпературски гранични слој на равној плочи**"
   ]
  },
  {
   "cell_type": "markdown",
   "id": "fc44f8e6-7a7f-4429-ba20-e198c5e8c391",
   "metadata": {},
   "source": [
    "### **2. Случај када је $\\mathrm{Pr}\\to \\infty$ (велике вредности Прантловог броја)**\n",
    "\n",
    "У овом случају је дебљина хидродинамичког (брзинског) граничног слоја $\\delta$ много већа од дебљине температурског граничног слоја $\\delta_{th}$, то јест $\\delta \\gg \\delta_{th}$. У том случају је може **претпоставити** да се у температурском граничном слоју брзина у аксијалном правцу мења линеарно са координатом $y$. Пројекцију брзине $v$ у попречном правцу одређујемо из једначине континуитета, и граничног услова $v(x,0) = 0$ па је\n",
    "\n",
    "\\begin{equation}\n",
    "u(x,y) = \\frac{\\tau_w(x)}{\\mu} \\,y \\qquad \\rightarrow \\qquad \\frac{\\partial u}{\\partial x} + \\frac{\\partial v}{\\partial y} = 0 \\qquad \\rightarrow \\qquad v(x, y) = -\\frac{1}{2\\mu}\\frac{\\mathrm{d}\\tau_w}{\\mathrm{d}x} y^2\n",
    "\\label{eq:1}\\tag{1}\n",
    "\\end{equation}\n",
    "\n",
    "Заменом ових пројекција брзине у једначину температуре, добија се \n",
    "\n",
    "\\begin{equation}\n",
    "(1) \\qquad \\rightarrow \\qquad u \\frac{\\partial T}{\\partial x} + v \\frac{\\partial T}{\\partial y} = \\alpha \\frac{\\partial^2 T}{\\partial y^2} \\quad \\rightarrow \\qquad \n",
    "\\frac{\\tau_w y}{\\mu}\\frac{\\partial T}{\\partial x} -\\frac{y^2}{2\\mu}\\frac{\\mathrm{d}\\tau_w}{\\mathrm{d}x}\\frac{\\partial T}{\\partial y}  = \\alpha\\, \\frac{\\partial^2 T}{\\partial y^2}\n",
    "\\label{eq:2}\\tag{2}\n",
    "\\end{equation}\n",
    "\n",
    "се увођењем бездимензијске промењиве сличности $\\eta$ и бездимензијске температуре $\\theta(\\eta)$ као \n",
    "\n",
    "$$\\eta = y\\sqrt{\\frac{\\tau_w}{\\mu}} \\, \\left(9 \\alpha \\int_{x_0}^x \\sqrt{\\frac{\\tau_w}{\\mu}} \\,\\mathrm{d}x\\right)^{\\!-1/3}, \\qquad \\theta(\\eta) = \\frac{T - T_{\\infty}}{T_w - T_{\\infty}}$$ \n",
    "\n",
    "где је $T_w$ константна температура плоче. Заменом бездимензијске температуре, и извода $\\partial_x T$, $\\partial_y T$ и $\\partial_{yy} T$ одговарајућим изводима $\\mathrm{d}_{\\eta}$ и $\\mathrm{d}_{\\eta\\eta}$ у парцијалну диференцијалну једначину $\\eqref{eq:1}$, добија се обична диференцијална једначина, и припадајући гранични услови\n",
    "\n",
    "\\begin{equation}\n",
    "\\theta^{\\prime\\prime} + 3\\eta^2 \\,\\theta^{\\prime} = 0, \\qquad \\theta(0) = 1, \\quad \\theta(\\infty) = 0 \\label{eq:3}\\tag{3}\n",
    "\\end{equation}\n",
    "\n",
    "Једначина $\\eqref{eq:2}$ се може аналитички решити и њено аналитичко решење је \n",
    "\n",
    "\\begin{equation}\n",
    "\\boxed{\\,\\, \\theta(\\eta) = 1 - \\mathbb{F}(\\eta), \\qquad \\mathbb{F}(\\eta) = \\frac{3}{\\Gamma\\left(\\frac{1}{3}\\right)} \\,\\int_0^{\\eta} e^{-t^3} \\, \\mathrm{d}t \\,\\,} \\label{eq:4}\\tag{4}\n",
    "\\end{equation}\n",
    "\n",
    "где је са $\\Gamma$ означена гама-функција. Функцију $\\mathbb{F}(\\eta)$ добијамо нумеричким решавањем интеграла за разне **позитивне** вредности $\\eta$ (горње границе интеграла)."
   ]
  },
  {
   "cell_type": "code",
   "execution_count": null,
   "id": "6fcd4c51-7b26-47f7-a86d-ad1b1508f930",
   "metadata": {},
   "outputs": [],
   "source": [
    "import numpy as np\n",
    "import matplotlib.pyplot as plt\n",
    "from scipy.special import gamma\n",
    "from scipy.special import erf\n",
    "\n",
    "\n",
    "eta_limit = 5\n",
    "eta = np.linspace(0.001, eta_limit, 100)\n",
    "t = np.linspace(0, eta_limit, 2000)\n",
    "integrand = np.exp(-t**3)\n",
    "plt.figure(figsize=(15, 5))\n",
    "plt.subplots_adjust(wspace=0.5)\n",
    "\n",
    "fig1=plt.subplot(121)\n",
    "plt.plot(t,integrand, linewidth=2, label='$\\\\exp(-\\\\eta^3)$')\n",
    "plt.grid(True, linestyle='dashed')\n",
    "\n",
    "eta = np.linspace(0.005, eta_limit, 400)\n",
    "G = []\n",
    "for k in range(5, 2001, 5):\n",
    "    G.append(np.trapz(integrand[0:k], dx = eta_limit/2000))\n",
    "\n",
    "G = np.array(G)\n",
    "F = 3/gamma(1/3) * G\n",
    "\n",
    "## Убацивање нула на прво место низа eta и F\n",
    "eta = np.insert(eta, 0, 0)\n",
    "F = np.insert(F, 0, 0)\n",
    "\n",
    "plt.plot(eta,F, lw=2, label = '$\\\\mathrm{\\\\mathbb{F}}\\,(\\eta)$')\n",
    "plt.xlabel(\"$\\\\eta$\", fontsize=14, labelpad=20)\n",
    "plt.legend(fontsize=12)\n",
    "\n",
    "theta = 1 - F\n",
    "fig2=plt.subplot(122)\n",
    "plt.grid(True, linestyle='dashed')\n",
    "plt.xlabel(\"$\\\\theta$\", fontsize=14, labelpad=20)\n",
    "plt.ylabel(\"$\\\\eta$\", fontsize=14, rotation=0, labelpad=20)\n",
    "plt.plot(theta, eta, lw = 2, label=\"$\\\\mathrm{Pr} \\,\\,\\\\to\\,\\, \\\\infty$\")\n",
    "plt.plot(1-erf(eta), eta, lw = 2, label=\"$\\\\mathrm{Pr} \\,\\,\\\\to\\,\\, 0$\")\n",
    "plt.legend(fontsize=12)"
   ]
  },
  {
   "cell_type": "markdown",
   "id": "f0d5db8b-95af-4309-bfaf-484567b4c7a0",
   "metadata": {},
   "source": [
    "На дијаграму на коме се пореди решење за граничне вредности Прантловог броја треба имати у виду да бездимензијске координате нису исте! Ради каснијег лакшег коришћења функције $\\mathbb{F} (\\eta)$ извршићемо њену апроксимацију полиномом одговарајућег степена. "
   ]
  },
  {
   "cell_type": "code",
   "execution_count": null,
   "id": "10ee37c9-2cd4-4b97-8d3d-db52a252bb5d",
   "metadata": {},
   "outputs": [],
   "source": [
    "fit_coeffs = np.polyfit(eta, F, 12)\n",
    "polinom = np.poly1d(fit_coeffs)\n",
    "#print(fit_coeffs)\n",
    "#print(polinom)\n",
    "plt.grid(True, linestyle='dashed')\n",
    "plt.plot(eta, polinom(eta), lw=2, label='Полином')\n",
    "plt.plot(eta, F, lw=2, label='$\\\\mathrm{\\\\mathbb{F}}\\,(\\eta)$')\n",
    "plt.legend(fontsize=12)"
   ]
  },
  {
   "cell_type": "markdown",
   "id": "9fc17c06-082b-4ccc-879b-61753023dda9",
   "metadata": {},
   "source": [
    "Приказаћемо сада расподелу димензијске температуре $T=T(x,y)$. Као прво, неопходно је написати егзактан израз за координату $\\eta = \\eta(x,y)$. У ту сврху је неопходно знати зависност $\\tau_w = \\tau_w(x)$, па ћемо узети расподелу смицајног напона на зиду из Блазијусовог решења за брзински гранични слој\n",
    "\n",
    "$$\\tau_w = 0.332 \\mu U_{\\infty}^{3/2}\\, \\nu^{-1/2} x^{-1/2} \\qquad \\rightarrow \\quad \\sqrt{\\frac{\\tau_w}{\\mu}} = \\sqrt{0.332\\,} U_{\\infty}^{3/4}\\, \\nu^{-1/4} x^{-1/4}, \\qquad \\int_{0}^x \\! \\sqrt{\\frac{\\tau_w}{\\mu}}\\,\\mathrm{d}x = \\frac{4\\sqrt{0.332\\,}}{3} U_{\\infty}^{3/4}\\, \\nu^{-1/4} x^{3/4} $$"
   ]
  },
  {
   "cell_type": "markdown",
   "id": "b42d40e7-d8c0-46ce-80af-d3a68b72d34d",
   "metadata": {},
   "source": [
    "па је даље $\\eta = \\eta(x,y)$ одређено функцијом\n",
    "\n",
    "$$ \\eta = y \\sqrt{\\frac{\\tau_w}{\\mu}} \\, \\left(9 \\alpha \\int_{x_0}^x \\sqrt{\\frac{\\tau_w}{\\mu}} \\,\\mathrm{d}x\\right)^{\\!-1/3} = y \\sqrt{0.332\\,} U_{\\infty}^{3/4}\\, \\nu^{-1/4} x^{-1/4} \\left(9 \\alpha\\,\\frac{4\\sqrt{0.332\\,}}{3}\\, U_{\\infty}^{3/4} \\nu^{-1/4} x^{3/4}\\right)^{-1/3} = 0.30245 y\\, U_{\\infty}^{1/2}\\, \\nu^{-1/6}\\, \\alpha^{-1/3} x^{-1/2} = 0.30245 y\\, U_{\\infty}^{1/2}\\, \\underbrace{\\nu^{-1/2} \\nu^{1/3}}_{\\nu^{-1/6}}\\, \\alpha^{-1/3} x^{-1/2}$$\n",
    "\n",
    "па је коначно промењива сличности $\\eta(x,y)$\n",
    "\n",
    "$$\\eta(x,y) = 0.30245 y \\sqrt{\\frac{U_{\\infty}}{\\alpha x}} \\left(\\frac{\\nu}{\\alpha}\\right)^{-\\!1/6} = 0.30245 y \\sqrt{\\frac{U_{\\infty}}{\\alpha x}} \\,\\, \\mathrm{Pr}^{-1/6} \\equiv 0.30245 y \\sqrt{\\frac{U_{\\infty}}{\\nu x}} \\,\\, \\mathrm{Pr}^{1/3} $$\n",
    "\n",
    "Коначно, можемо написати и израз за расподелу температуре у граничном слоју\n",
    "\n",
    "$$\\boxed{\\,\\,T(x,y) = T_{\\infty} + (T_w - T_{\\infty})\\left[ 1 - \\mathbb{F}\\left(0.30245 y \\sqrt{\\frac{U_{\\infty}}{\\alpha x}} \\,\\, \\mathrm{Pr}^{-1/6}\\right)\\right]\\,\\,}$$\n",
    "\n",
    "где је $\\mathbb{F}$ функција дефинисана једначином (4). За приказивање ове расподеле програмском коду користићемо представљање те функције полиномом, који је одређен у претходном програмском блоку.\n",
    "\n",
    "Нека је $T_{\\infty} = 290\\,\\mathrm{K}$, $T_w = 300\\,\\mathrm{K}$, $U_{\\infty} = 1\\,\\mathrm{m/s}$ и $\\mathrm{Pr}=100$, и нека је домен у коме желимо да прикажемо решење $0.001\\leqslant x \\leqslant 1$; $0 \\leqslant y \\leqslant 0.5 \\, \\mathrm{[m]}$."
   ]
  },
  {
   "cell_type": "code",
   "execution_count": null,
   "id": "73f89488-64e4-4543-b217-0398a6ed3e13",
   "metadata": {},
   "outputs": [],
   "source": [
    "\n",
    "Tinf = 280\n",
    "Tw = 300\n",
    "Uinf = 1\n",
    "\n",
    "# Еngine oil SAE 10W-30 na temperaturi 290\n",
    "Pr = 2e4\n",
    "alpha = 1e-6\n",
    "\n",
    "Nx = 500\n",
    "Ny = 1000\n",
    "x = np.linspace(1e-5, 1, Nx)\n",
    "y = np.linspace(0, 0.5, Ny)\n",
    "\n",
    "\n",
    "X, Y = np.meshgrid(x,y)\n",
    "\n",
    "X, Y = np.meshgrid(x,y)\n",
    "eta = 0.30245*Y*np.sqrt(Uinf/(alpha*X))*Pr**(-1/6) # \n",
    "\n",
    "for i in range(Ny):\n",
    "    for j in range (Nx):\n",
    "        if eta[i, j] > 4:\n",
    "            eta[i,j] = 2\n",
    "\n",
    "T = Tinf + (Tw - Tinf)*(1 - polinom(eta))\n",
    "plt.figure(figsize=(8,6), dpi=100)\n",
    "\n",
    "plt.contourf(X, Y, T, levels=32, cmap=\"jet\")\n",
    "cbar = plt.colorbar(orientation='vertical', shrink = 0.75, pad = 0.1)\n",
    "cbar.set_label('$T \\,[\\mathrm{K}]$', size = 14, rotation=0, labelpad =30)\n",
    "cbar.ax.tick_params(labelsize=10)"
   ]
  },
  {
   "cell_type": "markdown",
   "id": "e6d7c3ae-3d35-4bf9-bebb-aa08227556d6",
   "metadata": {},
   "source": [
    "Профили температуре на $x = 0.2$, $x=0.5$ и $x=0.8$ (то су приближно елементи низа са индексима 100, 250 и 400)."
   ]
  },
  {
   "cell_type": "code",
   "execution_count": null,
   "id": "3a279eaa-5cb2-42ee-9dad-f51384c9ebeb",
   "metadata": {},
   "outputs": [],
   "source": [
    "plt.figure(figsize=(8,6), dpi=100)\n",
    "plt.grid(True, linestyle=\"dashed\")\n",
    "plt.plot(T[:, 100], y, lw = 2, label='$x/L = 0.2$')\n",
    "plt.plot(T[:, 250], y, lw = 2, label='$x/L = 0.5$')\n",
    "plt.plot(T[:, 400], y, lw = 2, label='$x/L = 0.8$')\n",
    "plt.xlabel(\"$T\\,\\mathrm{[K]}$\", fontsize=14, labelpad=20)\n",
    "plt.ylabel(\"$y \\, \\mathrm{[m]}$\", fontsize=14, rotation=0, labelpad=40)\n",
    "plt.legend()"
   ]
  }
 ],
 "metadata": {
  "kernelspec": {
   "display_name": "Python 3 (ipykernel)",
   "language": "python",
   "name": "python3"
  },
  "language_info": {
   "codemirror_mode": {
    "name": "ipython",
    "version": 3
   },
   "file_extension": ".py",
   "mimetype": "text/x-python",
   "name": "python",
   "nbconvert_exporter": "python",
   "pygments_lexer": "ipython3",
   "version": "3.8.16"
  }
 },
 "nbformat": 4,
 "nbformat_minor": 5
}

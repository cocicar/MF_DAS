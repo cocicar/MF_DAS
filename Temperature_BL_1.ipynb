{
 "cells": [
  {
   "cell_type": "markdown",
   "id": "c8cbe427-7f6b-4d5c-ba02-b4ce922c3598",
   "metadata": {},
   "source": [
    "# **Teмпературски гранични слој на равној плочи**"
   ]
  },
  {
   "cell_type": "markdown",
   "id": "fc44f8e6-7a7f-4429-ba20-e198c5e8c391",
   "metadata": {},
   "source": [
    "### **1. Случај када је $\\mathrm{Pr}\\to 0$ (мале вредности Прантловог броја)**\n",
    "\n",
    "Прво ћемо разматрати случај када је Прантлов број веома мали то јест када $\\mathrm{Pr} \\to 0$. У овом случају је дебљина хидродинамичког (брзинског) граничног слоја $\\delta$ много мања од дебљине температурског граничног слоја $\\delta_{th}$, то јест $\\delta \\ll \\delta_{th}$. У том случају је може претпоставити да је у температурском граничном слоју $u=U_{\\infty}=\\mathrm{const}$, $v=0$, па се једначина температуре своди на \n",
    "\n",
    "\\begin{equation}\n",
    "u \\frac{\\partial T}{\\partial x} + v \\frac{\\partial T}{\\partial y} = \\alpha \\frac{\\partial^2 T}{\\partial y^2} \\qquad \\rightarrow \\quad u =U_{\\infty},\\,\\, v=0 \\quad \\rightarrow \\qquad U_{\\infty}\\frac{\\partial T}{\\partial x}  = \\alpha \\frac{\\partial^2 T}{\\partial y^2} \\label{eq:1}\\tag{1}\n",
    "\\end{equation}\n",
    "\n",
    "се увођењем бездимензијске промењиве сличности $\\eta$ и бездимензијске температуре $\\theta(\\eta)$ као \n",
    "\n",
    "$$\\eta = \\frac{y}{2}\\sqrt{\\frac{U_{\\infty}}{\\alpha x}}, \\qquad \\theta(\\eta) = \\frac{T - T_{\\infty}}{T_w - T_{\\infty}}$$ \n",
    "\n",
    "где је $T_w$ константна температура плоче. Заменом бездимензијске температуре, и извода $\\partial_x T$ и $\\partial_{yy} T$ одговарајућим изводима $\\mathrm{d}_{\\eta}$ и $\\mathrm{d}_{\\eta\\eta}$ у парцијалну диференцијалну једначину $\\eqref{eq:1}$, добија се обична диференцијална једначина, и припадајући гранични услови\n",
    "\n",
    "\\begin{equation}\n",
    "\\theta^{\\prime\\prime} + 2\\eta \\,\\theta^{\\prime} = 0, \\qquad \\theta(0) = 1, \\quad \\theta(\\infty) = 0 \\label{eq:2}\\tag{2}\n",
    "\\end{equation}\n",
    "\n",
    "Једначина $\\eqref{eq:2}$ се може аналитички решити и њено аналитичко решење је \n",
    "\n",
    "\\begin{equation}\n",
    "\\boxed{\\,\\,\\theta(\\eta) = 1 - \\mathrm{erf}(\\eta) \\equiv \\mathrm{erfc}(\\eta)\\,\\,}\n",
    "\\end{equation}\n",
    "\n",
    "где је са $\\mathrm{erf}$ означена функција грешке, односно са $\\mathrm{erfc}$ комплементарна функција грешке. Диференцијална једначина $\\eqref{eq:2}$, и њено решење су идентични као у случају првог Стоксовог проблема. График те функције је"
   ]
  },
  {
   "cell_type": "code",
   "execution_count": null,
   "id": "6fcd4c51-7b26-47f7-a86d-ad1b1508f930",
   "metadata": {},
   "outputs": [],
   "source": [
    "import numpy as np\n",
    "from scipy.special import erf\n",
    "import matplotlib.pyplot as plt\n",
    "eta = np.linspace(0, 5, 500)\n",
    "theta = 1 - erf(eta)\n",
    "plt.grid(True, linestyle='dashed')\n",
    "plt.xlabel(\"$\\\\theta$\", fontsize=14, labelpad=20)\n",
    "plt.ylabel(\"$\\\\eta$\", fontsize=14, rotation=0, labelpad=20)\n",
    "plt.plot(theta, eta, lw = 3)"
   ]
  },
  {
   "cell_type": "markdown",
   "id": "bf1fe74b-94e5-4d1d-a037-de7b50ca1fd0",
   "metadata": {},
   "source": [
    "Интересантно је сада приказати и расподелу димензијске температуре, тј. $T = T(x,y)$. Та расподела директно следи заменом израза за $\\eta$ и бездимензијску температуру $\\theta$ у решење, па следи\n",
    "$$\\frac{T(x,y) - T_{\\infty}}{T_w - T_{\\infty}} = 1 - \\mathrm{erf}\\left(\\frac{y}{2}\\sqrt{\\frac{U_{\\infty}}{\\alpha x}}\\right) \\qquad \\Rightarrow \\qquad \\boxed{\\, T(x,y) = T_{\\infty} + (T_w - T_{\\infty})\\left[1 - \\mathrm{erf}\\left(\\frac{y}{2}\\sqrt{\\frac{U_{\\infty}}{\\alpha x}}\\right)\\right]\\,} $$"
   ]
  },
  {
   "cell_type": "markdown",
   "id": "508eecd0-8f73-415b-9a9b-371f43242036",
   "metadata": {},
   "source": [
    "Нека је $T_{\\infty} = 290\\,\\mathrm{K}$, $T_w = 300\\,\\mathrm{K}$, $U_{\\infty} = 10\\,\\mathrm{m/s}$ и $\\alpha = 0.01 \\mathrm{m^2/s}$, и нека је домен у коме желимо да прикажемо решење $0.001\\leqslant x \\leqslant 1$; $0 \\leqslant y \\leqslant 0.5 \\, \\mathrm{[m]}$."
   ]
  },
  {
   "cell_type": "code",
   "execution_count": null,
   "id": "5d2837a2-7633-45d5-84f7-d1a2a95f3bb4",
   "metadata": {},
   "outputs": [],
   "source": [
    "Tinf = 280\n",
    "Uinf = 10\n",
    "alpha = 0.002\n",
    "Tw = 300\n",
    "\n",
    "x = np.linspace(1e-6, 1, 500)\n",
    "y = np.linspace(0, 0.5, 1000)\n",
    "X, Y = np.meshgrid(x,y)\n",
    "\n",
    "T = Tinf + (Tw - Tinf)*(1 - erf(Y/2*np.sqrt(Uinf/(alpha*X))))\n",
    "plt.figure(figsize=(8,6), dpi=100)\n",
    "\n",
    "plt.contourf(X, Y, T, levels=32, cmap=\"jet\")\n",
    "cbar = plt.colorbar(orientation='vertical', shrink = 0.75, pad = 0.1)\n",
    "cbar.set_label('$T \\,[\\mathrm{K}]$', size = 14, rotation=0, labelpad =30)\n",
    "cbar.ax.tick_params(labelsize=10)"
   ]
  },
  {
   "cell_type": "markdown",
   "id": "3af07070-abeb-45b4-8485-e23f9c7995a0",
   "metadata": {},
   "source": [
    "Профили температуре на $x = 0.2$, $x=0.5$ и $x=0.8$ (то су приближно елементи низа са индексима 100, 250 и 400)."
   ]
  },
  {
   "cell_type": "code",
   "execution_count": null,
   "id": "68e1b51d-3ce5-40f8-bd8c-76f820711f55",
   "metadata": {},
   "outputs": [],
   "source": [
    "plt.figure(figsize=(8,6), dpi=100)\n",
    "plt.grid(True, linestyle=\"dashed\")\n",
    "plt.plot(T[:, 100], y, lw = 2, label='$x/L = 0.2$')\n",
    "plt.plot(T[:, 250], y, lw = 2, label='$x/L = 0.5$')\n",
    "plt.plot(T[:, 400], y, lw = 2, label='$x/L = 0.8$')\n",
    "plt.xlabel(\"$T\\,\\mathrm{[K]}$\", fontsize=14, labelpad=20)\n",
    "plt.ylabel(\"$y \\, \\mathrm{[m]}$\", fontsize=14, rotation=0, labelpad=40)\n",
    "plt.legend()"
   ]
  }
 ],
 "metadata": {
  "kernelspec": {
   "display_name": "Python 3 (ipykernel)",
   "language": "python",
   "name": "python3"
  },
  "language_info": {
   "codemirror_mode": {
    "name": "ipython",
    "version": 3
   },
   "file_extension": ".py",
   "mimetype": "text/x-python",
   "name": "python",
   "nbconvert_exporter": "python",
   "pygments_lexer": "ipython3",
   "version": "3.8.16"
  }
 },
 "nbformat": 4,
 "nbformat_minor": 5
}

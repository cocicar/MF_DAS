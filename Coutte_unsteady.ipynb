{
 "cells": [
  {
   "cell_type": "markdown",
   "id": "7a42b0f2-3729-4201-90b9-d78980423b20",
   "metadata": {},
   "source": [
    "# **Нестационарно Куетово струјање**"
   ]
  },
  {
   "cell_type": "markdown",
   "id": "721b6106-159c-44a0-8b30-89fc31ef5600",
   "metadata": {},
   "source": [
    "Профил брзине је одређен изразом\n",
    "$$u^{\\ast}(t,y) = 1 - y^{\\ast} - \\frac{2}{\\pi} \\sum_{n=1}^{\\infty} \\frac{\\sin (n\\pi y^{\\ast})}{n}\\, e^{-n^2 \\pi^2 t^{\\ast}}$$"
   ]
  },
  {
   "cell_type": "code",
   "execution_count": null,
   "id": "bc54a57f-d706-4e07-9b1b-17ede12dccee",
   "metadata": {},
   "outputs": [],
   "source": [
    "import numpy as np\n",
    "import matplotlib.pyplot as plt\n",
    "\n",
    "vreme = np.linspace(0, 0.1, 5)\n",
    "y = np.linspace(0, 1, 200)\n",
    "\n",
    "\n",
    "plt.title(\"Профили брзине\", size=12, weight='semibold', pad=15)\n",
    "for t in np.nditer(vreme):\n",
    "    sum = 0\n",
    "    for n in range(1, 25):\n",
    "        sum = sum + np.sin(n*np.pi*y)/n * np.exp(-n**2 * np.pi**2 * t)\n",
    "    u = 1 - y - 2/np.pi*sum\n",
    "    plt.plot(y,u, lw = 2, label = \"$t^{\\\\ast}$ = %.4f\" % t)\n",
    "    \n",
    "plt.xlabel(\"$u^{\\\\ast} \\equiv u/U_0$\", size=13)\n",
    "plt.ylabel(\"$y^{\\\\ast} \\equiv y/H$\", size=13)\n",
    "plt.grid(True, linestyle='dashed')\n",
    "plt.legend()\n"
   ]
  },
  {
   "cell_type": "code",
   "execution_count": null,
   "id": "b0565215-d096-429b-ad42-cf84f81d9120",
   "metadata": {},
   "outputs": [],
   "source": [
    "ts = 0.24 # претпоставка када се достиже стационарно стање\n",
    "ssum = 0\n",
    "for n in range(1, 25):\n",
    "        ssum = ssum + np.sin(n*np.pi*y)/n * np.exp(-n**2 * np.pi**2 * ts)\n",
    "\n",
    "u_tilde = 2/np.pi*ssum\n",
    "u = 1 - y - u_tilde\n",
    "plt.figure(figsize=(12,4))\n",
    "\n",
    "plt.subplot(1,2,1)\n",
    "plt.title(\"Функција $\\\\tilde{u}(t^{\\\\ast}, \\, y^{\\\\ast})$ за $t^{\\\\ast}$ = %.3f [-]\" % ts, size=12, weight='semibold', pad=15)\n",
    "plt.ylabel(\"$y^{\\\\ast} = y/H$\", size = 13)\n",
    "plt.xlabel(\"$\\\\widetilde{u}^{\\\\ast}$\", size = 13)\n",
    "plt.grid(True, linestyle='dashed')\n",
    "plt.plot(u_tilde, y, lw = 3)\n",
    "\n",
    "plt.subplot(1,2,2)\n",
    "plt.title(\"Профил брзине $u^{\\\\ast}(t^{\\\\ast}, \\, y^{\\\\ast})$ за $t^{\\\\ast}$ = %.3f [-]\" % ts, size=12, weight='semibold', pad=15)\n",
    "plt.xlabel(\"$u^{\\\\ast}$\", size = 13)\n",
    "plt.grid(True, linestyle='dashed')\n",
    "plt.plot(u, y, lw=3, color='red')\n",
    "plt.plot(1-y, y, linestyle='dashed', lw=1, color='black', label='Профил за $t \\, \\\\to \\, \\\\infty$')\n",
    "plt.legend()"
   ]
  },
  {
   "cell_type": "markdown",
   "id": "1888c1d5-7101-4350-b89b-41eeb93eb955",
   "metadata": {},
   "source": [
    "## "
   ]
  }
 ],
 "metadata": {
  "kernelspec": {
   "display_name": "Python 3 (ipykernel)",
   "language": "python",
   "name": "python3"
  },
  "language_info": {
   "codemirror_mode": {
    "name": "ipython",
    "version": 3
   },
   "file_extension": ".py",
   "mimetype": "text/x-python",
   "name": "python",
   "nbconvert_exporter": "python",
   "pygments_lexer": "ipython3",
   "version": "3.8.16"
  }
 },
 "nbformat": 4,
 "nbformat_minor": 5
}

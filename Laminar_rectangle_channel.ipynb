{
 "cells": [
  {
   "cell_type": "markdown",
   "id": "7afeb4fe-f62c-49fc-b5a8-d7cc77fd7ce6",
   "metadata": {},
   "source": [
    "# **Ламинарно струјање у правоугаоном каналу**\n",
    "\n",
    "Аналитичко решење Пуасонове једначине \n",
    "\n",
    "$$\\nabla^2 u = k \\qquad \\Rightarrow \\qquad \\frac{\\partial^2 u}{\\partial x^2} + \\frac{\\partial^2 u}{\\partial y^2} = k, \\quad k = \\mathrm{const}$$\n",
    "\n",
    "на домену облика правоугаоника дужина страница $a$ и $b$ ($x$ и $y$ правац) са хомогеним Дириклеовим граничним условима $u =0$ на страницима правоугаоника, je\n",
    "\n",
    "$$ u(x,y) = \\frac{k a^2}{2} \\left[\\left(\\, \\frac{x}{a}\\right)^2 - 1 - 4 \\sum_{k=1}^{\\infty} \\frac{(-1)^n}{\\lambda_n^3} \\frac{\\cos\\left(\\lambda_n\\frac{y}{a}\\right)}{\\cos\\left(\\lambda_n\\frac{b}{a}\\right)}\\, \\,\\cos\\left(\\lambda_n \\frac{x}{a}\\right)\\right], \\qquad \\text{где је}\\,\\, \\lambda_n = (2n - 1)\\frac{\\pi}{2}$$"
   ]
  },
  {
   "cell_type": "code",
   "execution_count": null,
   "id": "9854ab50-f5ec-42c1-924e-cc8e508fcf46",
   "metadata": {},
   "outputs": [],
   "source": [
    "import numpy as np\n",
    "import matplotlib.pyplot as plt\n",
    "\n",
    "k = -5\n",
    "a = 1\n",
    "b = 1\n",
    "N = 64 # broj kontura u=const\n",
    "\n",
    "Ny = int(101)\n",
    "Nx = int(a/b*(Ny-1) + 1)\n",
    "x = np.linspace(-a, a, Nx)\n",
    "y = np.linspace(-b, b, Ny)\n",
    "\n",
    "X,Y = np.meshgrid(x,y)\n",
    "\n",
    "sum = 0\n",
    "for n in range(1, 100):\n",
    "    lamn = (2*n - 1)*np.pi/2\n",
    "    sum = sum + (-1)**n / lamn**3 * np.cosh(lamn*Y/a)/np.cosh(lamn*b/a) * np.cos(lamn*X/a)\n",
    "    \n",
    "u = 0.5*k*a**2 * (X**2/a**2 - 1 - 4*sum)\n",
    "um = np.max(u)\n",
    "print(\"------------------------------------------\")\n",
    "print(\"| Mаксимум функције u(x,y): um = %.4f \" % um, \"|\") \n",
    "print(\"------------------------------------------\")\n",
    "\n",
    "y_size = 5\n",
    "plt.figure(figsize=((a/b+0.2)*y_size, y_size), dpi = 180)\n",
    "plt.title(\"Контуре $\\\\mathrm{u(x,y) = \\mathrm{const}}$\", pad = 15, size = 12)\n",
    "levels = np.linspace(0, um, N)\n",
    "plt.tick_params(labelsize = 10)\n",
    "plt.xlabel(\"$x$\", size=14)\n",
    "plt.ylabel(\"$y$\", size=14)\n",
    "\n",
    "# Обојене континуалне контуре\n",
    "plt.contourf(X, Y, u, cmap='jet', levels=levels)\n",
    "cbar = plt.colorbar(orientation='vertical')\n",
    "cbar.ax.tick_params(labelsize=10)\n",
    "\n",
    "# Контуре у виду линија\n",
    "lines =  np.arange(0, 1.5*um, um/10)\n",
    "#plt.contour(X, Y, u, colors='black', levels=lines)"
   ]
  },
  {
   "cell_type": "code",
   "execution_count": null,
   "id": "d79c780c-1d7b-4f10-a336-3c57d4c21b1a",
   "metadata": {},
   "outputs": [],
   "source": [
    "#Профил брзине који одговара струјању између паралелних плоча дуж x=0\n",
    "u2d = k/2*(y**2 - b**2)\n",
    "\n",
    "plt.figure(figsize=(12,4), dpi=150)\n",
    "plt.subplot(1,2,1)\n",
    "plt.title(\"Профили брзине у два пресека $x=\\mathrm{const}$\")\n",
    "plt.plot(u[:, int(Nx/2-1)], y, lw = 2, label='$u(x=0, y)$')\n",
    "plt.plot(u[:, 5], y, lw = 2, label = '$u(x$ = %.1f, y)' % x[5])\n",
    "plt.grid(True, linestyle = 'dashed')\n",
    "plt.xlabel(\"$u$\", size = 13)\n",
    "plt.ylabel(\"$y$\", size = 13)\n",
    "plt.legend()\n",
    "plt.subplots_adjust(hspace=20)\n",
    "\n",
    "plt.subplot(1,2,2)\n",
    "plt.title(\"Пoређење профила дуж $x = 0$ са 1D решењем\")\n",
    "plt.plot(u[:, int(Nx/2-1)], y, lw = 2, label='$u(x=0, y)$')\n",
    "plt.grid(True, linestyle = 'dashed')\n",
    "plt.plot(u2d, y, lw = 2, color ='red', label = '1D решење')\n",
    "plt.legend()"
   ]
  },
  {
   "cell_type": "code",
   "execution_count": null,
   "id": "e42bfe74-d15c-4631-af47-64d4b83da30d",
   "metadata": {},
   "outputs": [],
   "source": [
    "from matplotlib import cm\n",
    "fig, ax = plt.subplots(figsize=(10,10), subplot_kw={\"projection\": \"3d\"}, dpi=150)\n",
    "surf = ax.plot_surface(Y, X, u, cmap=cm.jet, linewidth=0, antialiased=False)\n",
    "ax.view_init(35, 30)\n",
    "fig.colorbar(surf, shrink=0.4, aspect=20, label='$u(x,y)$')\n",
    "plt.xlabel('$y$', fontsize = 12)\n",
    "plt.ylabel('$x$', fontsize = 12)"
   ]
  },
  {
   "cell_type": "code",
   "execution_count": null,
   "id": "e55ec484-3e9e-46c7-91bf-131acfa58b2e",
   "metadata": {},
   "outputs": [],
   "source": []
  }
 ],
 "metadata": {
  "kernelspec": {
   "display_name": "Python 3 (ipykernel)",
   "language": "python",
   "name": "python3"
  },
  "language_info": {
   "codemirror_mode": {
    "name": "ipython",
    "version": 3
   },
   "file_extension": ".py",
   "mimetype": "text/x-python",
   "name": "python",
   "nbconvert_exporter": "python",
   "pygments_lexer": "ipython3",
   "version": "3.8.16"
  }
 },
 "nbformat": 4,
 "nbformat_minor": 5
}

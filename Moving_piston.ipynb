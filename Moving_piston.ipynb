{
 "cells": [
  {
   "cell_type": "markdown",
   "id": "38fa7f12-0429-424f-b5a4-83edd1527e53",
   "metadata": {},
   "source": [
    "# **Струјање уља кроз процеп између клипа и цилиндра**\n",
    "\n",
    "Разматра се проблема струјања уља у процепу између између клипа и цилиндра. Струјање уља је изазвано кретањем клипа с десна улево, константном брзином $U_0$. Чело клипа својим кретањем испред себе потискује уље и ствара зону повећаног притиска, док повлачећи уље иза себе ствара зону нижег притиска. Та разлика притисака испред и иза клипа доводи до струјања уља у процепу."
   ]
  },
  {
   "cell_type": "code",
   "execution_count": null,
   "id": "08267285-0ca0-44f1-ab2d-0f4298148b20",
   "metadata": {},
   "outputs": [],
   "source": [
    "import numpy as np\n",
    "import matplotlib.pyplot as plt\n",
    "\n",
    "def fun(kappa):\n",
    "    return (1 - kappa**2)/((1-kappa**4)*np.log(kappa) + (1-kappa**2)**2)\n",
    "\n",
    "def tau(kappa):\n",
    "    return ((2*kappa*2*np.log(kappa) + 1 - kappa**2)*fun(kappa) - 1)/(kappa*np.log(kappa))\n",
    "\n",
    "def hidrodinamika(r0, R0):\n",
    "    n = R0/r0\n",
    "    br = 2 - (n**2 - 1)/(2*np.log(n))\n",
    "    im = (n**2 - 1)*(n**2 + 1 - (n**2 - 1)/np.log(n))\n",
    "    return br/im\n",
    "\n",
    "R0 = 51e-3\n",
    "r0 = 50e-3\n",
    "kappa = r0/R0\n",
    "U0 = 0.01\n",
    "eta = 1.0\n",
    "L = 0.2\n",
    "\n",
    "um = U0*fun(kappa)\n",
    "kp_nu = -4*U0/R0**2*fun(kappa)\n",
    "r = np.linspace(kappa*R0, R0, 200)\n",
    "u = U0*fun(kappa)*((r/R0)**2 - 1) - U0/np.log(kappa)*np.log(r/R0) + U0*fun(kappa)*(1-kappa**2)/np.log(kappa)*np.log(r/R0)\n",
    "integrand = np.array(2*u*np.pi*r)\n",
    "print (\"Запремински проток кроз процеп срачунат на основу профила брзине  Q =\", np.trapz(integrand, r)*1000, \"[lit/s]\")\n",
    "print (\"Запремински проток кроз процеп срачунат на основу брзине клипа  Q =\", U0*r0**2*np.pi*1e3, \"[lit/s]\")\n",
    "plt.xlabel(\"$u\\,\\\\mathrm{[m/s]}$\", size=13)\n",
    "plt.ylabel(\"$r\\,\\\\mathrm{[mm]}$\", size=13)\n",
    "plt.grid(True, linestyle='dashed')\n",
    "plt.plot(u, r*1000, lw = 2)\n",
    "\n",
    "print(\"Средња брзина струјања кроз процеп: u_sr =\", U0*(kappa**2)/(1-kappa**2), \"[m/s]\")\n",
    "print(\"РАЗЛИКА ПРИТИСАКА (p1 - p2) =\", eta*kp_nu*L/1e5, \"[bar]\")\n",
    "print(\"Сила потребна за покретање клипа F =\", kp_nu*L*kappa**2 * R0**2*np.pi, \"[N]\")\n",
    "print(\"Сила трења на омотачу клипа F_mu = \", eta*U0/R0*tau(kappa)*kappa*R0*L, \"[N]\")"
   ]
  },
  {
   "cell_type": "code",
   "execution_count": null,
   "id": "6e084e56-4f8b-4bd7-9f18-ce236d0af1e1",
   "metadata": {},
   "outputs": [],
   "source": [
    "print(\"-------------------------------------------------------------------\")\n",
    "print(\"                      ХИДРОДИНАМИКА:\")\n",
    "print(\"-------------------------------------------------------------------\")\n",
    "dpdx = -8*eta*U0/r0**2 * hidrodinamika(r0,R0)\n",
    "print(\"РАЗЛИКА ПРИТИСАКА (p1 - p2) =\", -dpdx*L/1e5, \"[bar]\")\n",
    "print(\"Сила потребна за покретање клипа F =\", r0**2*np.pi*(-dpdx*L), \"[N]\")\n",
    "dp = -dpdx*L\n",
    "R1 = r0\n",
    "R2 = R0\n",
    "r_hd = np.linspace(R1, R2, 200)\n",
    "u_hd = dp/(4*eta*L)*(R2**2 - r_hd**2 - (R2**2 - R1**2)*np.log(R2/r_hd)/np.log(R2/R1)) - U0*np.log(R2/r_hd)/np.log(R2/R1)\n",
    "integrand_hd = np.array(2*u_hd*np.pi*r)\n",
    "print (\"Запремински проток  Q =\", np.trapz(integrand_hd, r_hd)*1000, \"[lit/s]\")\n",
    "plt.xlabel(\"$u\\,\\\\mathrm{[m/s]}$\", size=13)\n",
    "plt.ylabel(\"$r\\,\\\\mathrm{[mm]}$\", size=13)\n",
    "plt.grid(True, linestyle='dashed')\n",
    "plt.plot(u_hd, r*1000, lw = 2)\n",
    "plt.plot(u, r*1000, lw=2)"
   ]
  }
 ],
 "metadata": {
  "kernelspec": {
   "display_name": "Python 3 (ipykernel)",
   "language": "python",
   "name": "python3"
  },
  "language_info": {
   "codemirror_mode": {
    "name": "ipython",
    "version": 3
   },
   "file_extension": ".py",
   "mimetype": "text/x-python",
   "name": "python",
   "nbconvert_exporter": "python",
   "pygments_lexer": "ipython3",
   "version": "3.8.16"
  }
 },
 "nbformat": 4,
 "nbformat_minor": 5
}

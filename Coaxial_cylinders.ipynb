{
 "cells": [
  {
   "cell_type": "markdown",
   "id": "2238b6b8-1ea5-4fb3-bb9f-250a283b5d1e",
   "metadata": {},
   "source": [
    "## **Струјање између коаксијалних цилиндара**"
   ]
  },
  {
   "cell_type": "markdown",
   "id": "ea94325e-71dd-4fb1-aa64-08436b94cfc8",
   "metadata": {},
   "source": [
    "Разматра се стационарно, ламинарно, потпуно развијено у простору између два непокретна коаксијална цилиндра."
   ]
  },
  {
   "cell_type": "code",
   "execution_count": null,
   "id": "51add577-c761-41d0-9b3a-f2f3a462a743",
   "metadata": {},
   "outputs": [],
   "source": [
    "import numpy as np\n",
    "import matplotlib.pyplot as plt\n",
    "\n",
    "\n",
    "R = 0.1\n",
    "kappa = 0.1\n",
    "dp = 1\n",
    "nu = 1e-2\n",
    "uc_m = dp*R**2/(4*nu)\n",
    "\n",
    "r = np.linspace(kappa*R, R, 100)\n",
    "u = uc_m*(1 - (r/R)**2) + uc_m*(1-kappa**2)/np.log(kappa) * np.log(R/r)\n",
    "\n",
    "r_m = R*np.sqrt((kappa**2-1)/(2*np.log(kappa)))\n",
    "up_m = uc_m*(1 - (r_m/R)**2) + uc_m*(1-kappa**2)/np.log(kappa) * np.log(R/r_m)\n",
    "\n",
    "plt.plot(u, r, lw =2)\n",
    "plt.scatter(up_m, r_m, color='red', zorder=2)\n",
    "plt.xlabel(\"$u \\,\\mathrm{[m/s]}$\", size=13)\n",
    "plt.ylabel(\"$r \\, \\mathrm{[m]}$\", size=13)\n",
    "plt.grid(True, linestyle='dotted')"
   ]
  },
  {
   "cell_type": "markdown",
   "id": "21b1431e-090f-46e1-8a04-7eb9220e1852",
   "metadata": {},
   "source": [
    "Исти протоци. Колики треба да буде однос падова притисака?"
   ]
  },
  {
   "cell_type": "code",
   "execution_count": null,
   "id": "f9699242-2c00-419a-b336-41be463d28cc",
   "metadata": {},
   "outputs": [],
   "source": [
    "kappa = np.linspace(0.0001, 0.9, 100) \n",
    "odnos_p = 1/(2*(1 - kappa**4 + (1-kappa**2)**2/np.log(kappa)))\n",
    "plt.plot(kappa,odnos_p)\n",
    "plt.grid(True, linestyle='dotted')\n",
    "plt.xlabel(\"$\\\\varkappa$\", size=13)\n",
    "plt.ylabel(\"$\\\\Delta P_p/\\\\Delta P_c$\", size=13)"
   ]
  },
  {
   "cell_type": "markdown",
   "id": "f1a4457b-1d45-4113-b0d1-f00de67b9d6b",
   "metadata": {},
   "source": [
    "Бездимензијски профил брзине"
   ]
  },
  {
   "cell_type": "code",
   "execution_count": null,
   "id": "b8587796-28c5-45b1-b47b-bb223a7e8eff",
   "metadata": {},
   "outputs": [],
   "source": [
    "%clear\n",
    "kappa=0.001\n",
    "r_bd = np.linspace(kappa, 1, 100)\n",
    "u_bd = (1 - r_bd**2) - (1-kappa**2)/np.log(kappa) * np.log(r_bd)\n",
    "plt.plot(u_bd, r_bd, lw =2)\n",
    "plt.xlabel(\"$u^{\\\\ast} \\,\\mathrm{[-]}$\", size=13)\n",
    "plt.ylabel(\"$r^{\\\\ast} \\, \\mathrm{[-]}$\", size=13)\n",
    "plt.grid(True, linestyle='dotted')"
   ]
  }
 ],
 "metadata": {
  "kernelspec": {
   "display_name": "Python 3 (ipykernel)",
   "language": "python",
   "name": "python3"
  },
  "language_info": {
   "codemirror_mode": {
    "name": "ipython",
    "version": 3
   },
   "file_extension": ".py",
   "mimetype": "text/x-python",
   "name": "python",
   "nbconvert_exporter": "python",
   "pygments_lexer": "ipython3",
   "version": "3.8.16"
  }
 },
 "nbformat": 4,
 "nbformat_minor": 5
}

{
 "cells": [
  {
   "cell_type": "markdown",
   "id": "168faa91-0cba-4af6-8a86-5a86aa5b3d21",
   "metadata": {},
   "source": [
    "# **Струјање између ротирајућих цилиндара**\n",
    "\n",
    "Разматра се случај **осносиметричног**, стационарног струјања флуида који се налази у простору између коаксијалних цилиндара који ротирају око својих оса. Прво се разматра случај када је спољашњи цилиндар фиксан (не обрће се), док унутрашњи ротира уганом брзином $\\varOmega$."
   ]
  },
  {
   "cell_type": "code",
   "execution_count": null,
   "id": "a04c9daa-ca6a-449a-8dab-06496ce1603a",
   "metadata": {},
   "outputs": [],
   "source": [
    "import numpy as np\n",
    "import matplotlib.pyplot as plt\n",
    "\n",
    "nu = 0.01\n",
    "\n",
    "R1 = 0.1\n",
    "R2 = 0.15\n",
    "Omega = 20\n",
    "\n",
    "r = np.linspace(R1, R2, 200)\n",
    "\n",
    "w = R1**2*Omega/(R2**2 - R1**2) * (R2**2/r - r)\n",
    "P = Omega**2*R1**4/(R2**2 - R1**2)**2 * (0.5*(r**2 - R1**2) - 2*R2**2 * np.log(r/R1) - 0.5*R2**4*(1/r**2 - 1/R1**2))\n",
    "\n",
    "plt.figure(figsize=(12,4))\n",
    "\n",
    "plt.subplot(1,2,1)\n",
    "plt.title(\"Обимска брзина\", weight='semibold', size=13)\n",
    "plt.grid(True, linestyle='dashed')\n",
    "plt.xlabel(\"$W\\,\\\\mathrm{[m/s]}$\")\n",
    "plt.ylabel(\"$r\\,\\\\mathrm{[m]}$\")\n",
    "plt.plot(w, r, lw = 2)\n",
    "\n",
    "plt.subplot(1,2,2)\n",
    "plt.title(\"Генералисани притисак\", weight='semibold', size=13)\n",
    "plt.grid(True, linestyle='dashed')\n",
    "plt.xlabel(\"$\\\\frac{(p-p_0)}{\\\\rho}\\,\\\\mathrm{[m^2/s^2]}$\")\n",
    "plt.plot(P, r, lw = 2)"
   ]
  },
  {
   "cell_type": "markdown",
   "id": "4fea12cb-293c-487c-8eb4-8a5f25d482d0",
   "metadata": {},
   "source": [
    "Сада разматрамо случај када цилиндри ротирају у супротним смеровима."
   ]
  },
  {
   "cell_type": "code",
   "execution_count": null,
   "id": "98ae4ca9-de35-4b86-aa9c-022f3fd566c5",
   "metadata": {},
   "outputs": [],
   "source": [
    "import numpy as np\n",
    "import matplotlib.pyplot as plt\n",
    "\n",
    "nu = 0.01\n",
    "\n",
    "R1 = 0.1\n",
    "R2 = 0.15\n",
    "Omega_1 = 20\n",
    "Omega_2 = 12\n",
    "\n",
    "r = np.linspace(R1, R2, 200)\n",
    "C_1 = - (Omega_1*R1**2 + Omega_2*R2**2)/(R2**2 - R1**2)\n",
    "C_2 = R1**2 * R2**2/(R2**2 - R1**2) * (Omega_1 + Omega_2)\n",
    "\n",
    "w = C_1*r + C_2/r\n",
    "P = C_1**2/2*(r**2- R1**2) + 2*C_1*C_2*np.log(r/R1) - C_2**2/2*(1/r**2 - 1/R1**2)\n",
    "\n",
    "plt.figure(figsize=(12,4))\n",
    "plt.subplot(1,2,1)\n",
    "plt.title(\"Обимска брзина\", weight='semibold', size=13)\n",
    "plt.grid(True, linestyle='dashed')\n",
    "plt.xlabel(\"$W\\,\\\\mathrm{[m/s]}$\")\n",
    "plt.ylabel(\"$r\\,\\\\mathrm{[m]}$\")\n",
    "plt.plot(w, r, lw = 2)\n",
    "\n",
    "plt.subplot(1,2,2)\n",
    "plt.title(\"Генералисани притисак\", weight='semibold', size=13)\n",
    "plt.grid(True, linestyle='dashed')\n",
    "plt.xlabel(\"$\\\\frac{(p-p_0)}{\\\\rho}\\,\\\\mathrm{[m^2/s^2]}$\")\n",
    "plt.plot(P, r, lw = 2)"
   ]
  },
  {
   "cell_type": "markdown",
   "id": "ff07751e-36a3-44a0-b648-d57b7b2cdbb3",
   "metadata": {},
   "source": []
  }
 ],
 "metadata": {
  "kernelspec": {
   "display_name": "Python 3 (ipykernel)",
   "language": "python",
   "name": "python3"
  },
  "language_info": {
   "codemirror_mode": {
    "name": "ipython",
    "version": 3
   },
   "file_extension": ".py",
   "mimetype": "text/x-python",
   "name": "python",
   "nbconvert_exporter": "python",
   "pygments_lexer": "ipython3",
   "version": "3.8.16"
  }
 },
 "nbformat": 4,
 "nbformat_minor": 5
}
